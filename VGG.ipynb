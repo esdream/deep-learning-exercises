{
 "cells": [
  {
   "cell_type": "markdown",
   "metadata": {},
   "source": [
    "## VGG(Visual Geometry Group)\n",
    "原始论文：《Very Deep Convolutional Networks For Large-Scale Image Recognition》\n",
    "\n",
    "论文亮点：\n",
    "+ 卷积核全部使用的是3 * 3的卷积核\n",
    "+ 输入图像为224 * 224的RGB图像\n",
    "+ 预处理：RGB三个通道减去各自通道的均值\n",
    "+ 每一个卷积层后连接着三个全连接层（Fully-Connected layers，FC）。前两个全连接层各有4096个通道，第三个全连接层是1000种分类。最后一层的激活函数是softmax，其他层的激活函数是ReLU。\n",
    "+ VGG有六种结构，每一种结构一般以VGG+层数命名。每一种结构具有不同的参数个数。\n",
    "\n",
    "![VGG](https://cdn-images-1.medium.com/max/800/0*HREIJ1hjF7z4y9Dd.jpg)\n",
    "\n",
    "+ 训练：使用mini-batch gradient descent with momentum。batch-size是256，momentum是0.9。使用了dropout（radio为0.5）。学习速率初始化为$10^{-2}$。衰减系数为10。\n",
    "+ 总共训练了370K iterations，74 epochs.\n",
    "+ 由于层数深的网络很难收敛，因此先训练层数少的网络直至收敛（如configuration A）。然后将A训练好的参数作为更深网络的参数输入进行训练。输入时只将网络A的前四个卷积层和最后三个全连接层作为参数输入，其他的参数仍然进行随机初始化。\n",
    "+ 随机初始化的均值为0，方差为$10^{-2}$。bias的初始化值为0。"
   ]
  },
  {
   "cell_type": "code",
   "execution_count": 1,
   "metadata": {
    "collapsed": true
   },
   "outputs": [],
   "source": [
    "import tensorflow as tf\n",
    "import numpy as np"
   ]
  },
  {
   "cell_type": "markdown",
   "metadata": {},
   "source": [
    "#### tf.get_variable(name, shape, initializer, trainable)\n",
    "`name`是变量的名称，`shape`是变量的维度，`initializer`是初始化函数。`trainable`如果为 True，还将变量添加到图形集`GraphKeys.TRAINABLE_VARIABLES`。一般`initializer`初始化的方式有以下几种：\n",
    "\n",
    "+ tf.constant_initializer：常量初始化函数\n",
    "+ tf.random_normal_initializer：随机正态分布\n",
    "+ tf.truncated_normal_initializer：截取的正态分布\n",
    "+ tf.random_uniform_initializer：均匀分布\n",
    "+ tf.zeros_initializer：全都是0\n",
    "+ tf.ones_initializer：全都是1\n",
    "+ tf.uniform_unit_scaling_initializer：满足均匀分布，但不影响输出数量级的随机值\n",
    "\n",
    "当然，tf.contrib.layers里还提供了一些其他的方法，例如这里使用的`tf.contrib.layer.xavier_initializer(uniform=True, seed=None, dtype=tf.float32)`。\n",
    "该函数返回一个用于初始化权重的初始化程序`Xavier`，这个初始化器可以保持每一层的梯度大小都差不多相同。\n",
    "\n",
    "参数：\n",
    "\n",
    "    + uniform：使用uniform或者normal分布随机初始化\n",
    "    + seed：用来生成随机数的seed\n",
    "    + dtype：只支持浮点数\n",
    "    \n",
    "返回值：\n",
    "    初始化权重矩阵"
   ]
  },
  {
   "cell_type": "code",
   "execution_count": 2,
   "metadata": {
    "collapsed": true
   },
   "outputs": [],
   "source": [
    "def conv(layer_name, x, out_channels, kernel_size=[3,3], stride=[1,1,1,1], is_pretrain=True):\n",
    "    '''Convolution on wrapper, use ReLU activation after convolution\n",
    "    Args:\n",
    "        layer_name: e.g, conv1, poo1, ...\n",
    "        x: input tensor, [batch_size, height, width, channels]\n",
    "        out_channels: number of output channels(or convolutional kernels)\n",
    "        kernel_size: the size of convolutional kernel, VGG paper used: [3, 3]\n",
    "        stride: A list of ints. 1-D of length 4. VGG paper used: [1, 1, 1, 1]\n",
    "    Returns:\n",
    "        4D tensor\n",
    "    '''\n",
    "    # x.get_shape()得到x tensor的尺寸（返回一个list），最后一个元素是x的通道数\n",
    "    in_channels = x.get_shape()[-1]\n",
    "    with tf.variable.scope(layer_name):\n",
    "        w = tf.get_variable(name='weights',\n",
    "                           trainable=is_pretrain,\n",
    "                           shape=[kernel_size[0], kernel_size[1], in_channels, out_channels],\n",
    "                           initializer=tf.contrib.layers.xavier_initializer())\n",
    "        b = tf.get_variable(name='biases',\n",
    "                           trainable=is_pretrain,\n",
    "                           shape=[out_channels],\n",
    "                           initializer=tf.constant_initializer(0, 0))\n",
    "        x = tf.nn.conv2d(x, w, stride, padding='SAME', name='conv')\n",
    "        x = tf.nn.bias_add(x, b, name='bias_add')\n",
    "        x = tf.nn.relu(x, name='relu')\n",
    "        return x"
   ]
  }
 ],
 "metadata": {
  "kernelspec": {
   "display_name": "Python 3",
   "language": "python",
   "name": "python3"
  },
  "language_info": {
   "codemirror_mode": {
    "name": "ipython",
    "version": 3
   },
   "file_extension": ".py",
   "mimetype": "text/x-python",
   "name": "python",
   "nbconvert_exporter": "python",
   "pygments_lexer": "ipython3",
   "version": "3.6.1"
  }
 },
 "nbformat": 4,
 "nbformat_minor": 2
}
